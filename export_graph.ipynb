{
 "cells": [
  {
   "cell_type": "code",
   "execution_count": 19,
   "metadata": {},
   "outputs": [],
   "source": [
    "import clip"
   ]
  },
  {
   "cell_type": "code",
   "execution_count": 20,
   "metadata": {},
   "outputs": [
    {
     "data": {
      "text/plain": [
       "['RN50',\n",
       " 'RN101',\n",
       " 'RN50x4',\n",
       " 'RN50x16',\n",
       " 'RN50x64',\n",
       " 'ViT-B/32',\n",
       " 'ViT-B/16',\n",
       " 'ViT-L/14',\n",
       " 'ViT-L/14@336px']"
      ]
     },
     "execution_count": 20,
     "metadata": {},
     "output_type": "execute_result"
    }
   ],
   "source": [
    "clip.available_models()"
   ]
  },
  {
   "cell_type": "code",
   "execution_count": 1,
   "metadata": {},
   "outputs": [],
   "source": [
    "import wandb\n",
    "import os\n",
    "import torch\n",
    "import torch.nn as nn\n",
    "from torch.cuda import amp"
   ]
  },
  {
   "cell_type": "code",
   "execution_count": 2,
   "metadata": {},
   "outputs": [],
   "source": [
    "device = \"cuda\" if torch.cuda.is_available() else \"cpu\""
   ]
  },
  {
   "cell_type": "code",
   "execution_count": 3,
   "metadata": {},
   "outputs": [
    {
     "name": "stderr",
     "output_type": "stream",
     "text": [
      "\u001b[34m\u001b[1mwandb\u001b[0m: Currently logged in as: \u001b[33mshivamshrirao\u001b[0m. Use \u001b[1m`wandb login --relogin`\u001b[0m to force relogin\n"
     ]
    },
    {
     "data": {
      "text/html": [
       "Tracking run with wandb version 0.12.16"
      ],
      "text/plain": [
       "<IPython.core.display.HTML object>"
      ]
     },
     "metadata": {},
     "output_type": "display_data"
    },
    {
     "data": {
      "text/html": [
       "Run data is saved locally in <code>/home/ubuntu/clip_classifier/wandb/run-20220518_215645-h4vl8o8o</code>"
      ],
      "text/plain": [
       "<IPython.core.display.HTML object>"
      ]
     },
     "metadata": {},
     "output_type": "display_data"
    },
    {
     "data": {
      "text/html": [
       "Resuming run <strong><a href=\"https://wandb.ai/shivamshrirao/clip_cls_9/runs/h4vl8o8o\" target=\"_blank\">dainty-sponge-54</a></strong> to <a href=\"https://wandb.ai/shivamshrirao/clip_cls_9\" target=\"_blank\">Weights & Biases</a> (<a href=\"https://wandb.me/run\" target=\"_blank\">docs</a>)<br/>"
      ],
      "text/plain": [
       "<IPython.core.display.HTML object>"
      ]
     },
     "metadata": {},
     "output_type": "display_data"
    }
   ],
   "source": [
    "wandb.init(project=\"clip_cls_9\", id=\"h4vl8o8o\", resume='must')\n",
    "CONFIG = wandb.config"
   ]
  },
  {
   "cell_type": "code",
   "execution_count": 61,
   "metadata": {},
   "outputs": [],
   "source": [
    "features_cache = f\"{CONFIG['clip_type']}_features.pth\"\n",
    "ft_dict = torch.load(features_cache)\n",
    "train_features = ft_dict[\"train_features\"]\n",
    "train_labels = ft_dict[\"train_labels\"]\n",
    "test_features = ft_dict[\"test_features\"]\n",
    "test_labels = ft_dict[\"test_labels\"]"
   ]
  },
  {
   "cell_type": "code",
   "execution_count": 62,
   "metadata": {},
   "outputs": [
    {
     "data": {
      "text/plain": [
       "(tensor([ 0,  1,  2,  3,  4,  5,  6,  7,  8,  9, 10, 11, 12, 13, 14, 15, 16, 17,\n",
       "         18, 19, 20, 21, 22, 23, 24, 25, 26, 27, 28, 29, 30, 31, 32, 33, 34, 35],\n",
       "        device='cuda:0'),\n",
       " tensor([3594, 3524, 3563, 3530, 3582, 3565, 3564, 3557, 3550, 3549, 3554, 3570,\n",
       "         3555, 3542, 3531, 3579, 3770, 3530, 3762, 3558, 3750, 3560, 3549, 3788,\n",
       "         3616, 3561, 3561, 3566, 3790, 3556, 3581, 3548, 3580, 3756, 3834, 3759],\n",
       "        device='cuda:0'))"
      ]
     },
     "execution_count": 62,
     "metadata": {},
     "output_type": "execute_result"
    }
   ],
   "source": [
    "torch.unique(train_labels, return_counts=True)"
   ]
  },
  {
   "cell_type": "code",
   "execution_count": 63,
   "metadata": {},
   "outputs": [
    {
     "data": {
      "text/plain": [
       "(tensor([ 0,  1,  2,  3,  4,  5,  6,  7,  8,  9, 10, 11, 12, 13, 14, 15, 16, 17,\n",
       "         18, 19, 20, 21, 22, 23, 24, 25, 26, 27, 28, 29, 30, 31, 32, 33, 34, 35],\n",
       "        device='cuda:0'),\n",
       " tensor([189, 210, 163, 205, 171, 171, 180, 183, 193, 191, 180, 193, 182, 199,\n",
       "         201, 189, 189, 201, 197, 178, 217, 210, 188, 209, 157, 198, 178, 181,\n",
       "         208, 188, 198, 180, 180, 198, 182, 198], device='cuda:0'))"
      ]
     },
     "execution_count": 63,
     "metadata": {},
     "output_type": "execute_result"
    }
   ],
   "source": [
    "torch.unique(test_labels, return_counts=True)"
   ]
  },
  {
   "cell_type": "code",
   "execution_count": 64,
   "metadata": {},
   "outputs": [],
   "source": [
    "cnv = {}\n",
    "for i in range(8):\n",
    "    x = i*45\n",
    "    if i%2:\n",
    "        cnv[x-5] = cnv[x+5] = i\n",
    "    else:\n",
    "        cnv[(x-10)%360] = cnv[x] = cnv[(x+10)%360] = i\n",
    "cnv = {k//10:v for k,v in cnv.items()}\n",
    "\n",
    "for i in range(len(train_labels)):\n",
    "    try:\n",
    "        train_labels[i] = cnv[train_labels[i].item()]\n",
    "    except KeyError:\n",
    "        train_labels[i] = 8\n",
    "for i in range(len(test_labels)):\n",
    "    try:\n",
    "        test_labels[i] = cnv[test_labels[i].item()]\n",
    "    except KeyError:\n",
    "        test_labels[i] = 8"
   ]
  },
  {
   "cell_type": "code",
   "execution_count": 5,
   "metadata": {},
   "outputs": [],
   "source": [
    "num_classes = 9"
   ]
  },
  {
   "cell_type": "code",
   "execution_count": 6,
   "metadata": {},
   "outputs": [],
   "source": [
    "cls_head = nn.Sequential(\n",
    "    nn.Linear(len(train_features[0]), CONFIG[\"hid_dim\"]),\n",
    "    nn.ReLU(),\n",
    "    nn.Dropout(CONFIG[\"dropout\"]),\n",
    "    nn.Linear(CONFIG[\"hid_dim\"], num_classes)\n",
    ").to(device).eval()"
   ]
  },
  {
   "cell_type": "code",
   "execution_count": 7,
   "metadata": {},
   "outputs": [
    {
     "data": {
      "text/plain": [
       "<All keys matched successfully>"
      ]
     },
     "execution_count": 7,
     "metadata": {},
     "output_type": "execute_result"
    }
   ],
   "source": [
    "cls_head.load_state_dict(torch.load(wandb.restore(\"best_weights_new.pth\").name))"
   ]
  },
  {
   "cell_type": "code",
   "execution_count": 16,
   "metadata": {},
   "outputs": [
    {
     "name": "stdout",
     "output_type": "stream",
     "text": [
      "torch.Size([256, 512])\n"
     ]
    }
   ],
   "source": [
    "data = train_features[:256]\n",
    "print(data.shape)"
   ]
  },
  {
   "cell_type": "code",
   "execution_count": 9,
   "metadata": {},
   "outputs": [],
   "source": [
    "class Wrapped_linear_model(torch.nn.Module):\n",
    "    def __init__(self, model):\n",
    "        super().__init__()\n",
    "        self.model = model\n",
    "\n",
    "    @torch.inference_mode()\n",
    "    def forward(self, data, fp16=True):\n",
    "        with amp.autocast(enabled=fp16):\n",
    "            x = self.model(data)\n",
    "            x = torch.softmax(x, dim=1)\n",
    "            # x = x.argmax(dim=1,keepdim=True)\n",
    "        return x\n",
    "wrp_model = Wrapped_linear_model(cls_head)"
   ]
  },
  {
   "cell_type": "code",
   "execution_count": 10,
   "metadata": {},
   "outputs": [
    {
     "name": "stdout",
     "output_type": "stream",
     "text": [
      "torch.Size([256, 9]) torch.float32\n",
      "CPU times: user 4.29 ms, sys: 824 µs, total: 5.11 ms\n",
      "Wall time: 4.11 ms\n"
     ]
    }
   ],
   "source": [
    "%%time\n",
    "torch.cuda.synchronize()\n",
    "with torch.no_grad():\n",
    "    svd_out = wrp_model(data, True)\n",
    "torch.cuda.synchronize()\n",
    "print(svd_out.shape, svd_out.dtype)"
   ]
  },
  {
   "cell_type": "code",
   "execution_count": 17,
   "metadata": {},
   "outputs": [
    {
     "name": "stdout",
     "output_type": "stream",
     "text": [
      "def forward(self,\n",
      "    data: Tensor) -> Tensor:\n",
      "  _0 = torch.add(torch.matmul(data, CONSTANTS.c0), CONSTANTS.c1)\n",
      "  input = torch.relu(_0)\n",
      "  _1 = torch.add(torch.matmul(input, CONSTANTS.c2), CONSTANTS.c3)\n",
      "  return torch.softmax(_1, 1, 6)\n",
      "\n"
     ]
    }
   ],
   "source": [
    "with torch.inference_mode(), torch.jit.optimized_execution(True):\n",
    "    traced_script_module = torch.jit.trace(wrp_model, data)\n",
    "    traced_script_module = torch.jit.optimize_for_inference(traced_script_module)\n",
    "\n",
    "print(traced_script_module.code)"
   ]
  },
  {
   "cell_type": "code",
   "execution_count": 18,
   "metadata": {},
   "outputs": [],
   "source": [
    "OUT_PATH = \"car_angle_classifier_9/1/\"\n",
    "os.makedirs(OUT_PATH, exist_ok=True)\n",
    "\n",
    "traced_script_module.save(f\"{OUT_PATH}/model.pt\")\n",
    "traced_script_module = torch.jit.load(f\"{OUT_PATH}/model.pt\")"
   ]
  },
  {
   "cell_type": "code",
   "execution_count": 15,
   "metadata": {},
   "outputs": [
    {
     "name": "stdout",
     "output_type": "stream",
     "text": [
      "torch.Size([256, 9]) torch.float32\n",
      "CPU times: user 1.15 ms, sys: 538 µs, total: 1.69 ms\n",
      "Wall time: 743 µs\n"
     ]
    }
   ],
   "source": [
    "%%time\n",
    "torch.cuda.synchronize()\n",
    "with torch.no_grad():\n",
    "    o = traced_script_module(data)\n",
    "torch.cuda.synchronize()\n",
    "print(o.shape, o.dtype)"
   ]
  },
  {
   "cell_type": "code",
   "execution_count": null,
   "metadata": {},
   "outputs": [],
   "source": []
  }
 ],
 "metadata": {
  "kernelspec": {
   "display_name": "Python 3 (ipykernel)",
   "language": "python",
   "name": "python3"
  },
  "language_info": {
   "codemirror_mode": {
    "name": "ipython",
    "version": 3
   },
   "file_extension": ".py",
   "mimetype": "text/x-python",
   "name": "python",
   "nbconvert_exporter": "python",
   "pygments_lexer": "ipython3",
   "version": "3.8.12"
  }
 },
 "nbformat": 4,
 "nbformat_minor": 4
}
